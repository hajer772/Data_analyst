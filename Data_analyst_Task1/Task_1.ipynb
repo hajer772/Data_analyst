{
 "cells": [
  {
   "cell_type": "code",
   "execution_count": 1,
   "id": "7aa32b36",
   "metadata": {},
   "outputs": [],
   "source": [
    "import pandas as pd\n",
    "import seaborn as sns\n",
    "import matplotlib.pyplot as plt"
   ]
  },
  {
   "cell_type": "code",
   "execution_count": 2,
   "id": "78109bb7",
   "metadata": {},
   "outputs": [
    {
     "data": {
      "text/html": [
       "<div>\n",
       "<style scoped>\n",
       "    .dataframe tbody tr th:only-of-type {\n",
       "        vertical-align: middle;\n",
       "    }\n",
       "\n",
       "    .dataframe tbody tr th {\n",
       "        vertical-align: top;\n",
       "    }\n",
       "\n",
       "    .dataframe thead th {\n",
       "        text-align: right;\n",
       "    }\n",
       "</style>\n",
       "<table border=\"1\" class=\"dataframe\">\n",
       "  <thead>\n",
       "    <tr style=\"text-align: right;\">\n",
       "      <th></th>\n",
       "      <th>date</th>\n",
       "      <th>product</th>\n",
       "      <th>category</th>\n",
       "      <th>price</th>\n",
       "      <th>quantity</th>\n",
       "      <th>revenue</th>\n",
       "    </tr>\n",
       "  </thead>\n",
       "  <tbody>\n",
       "    <tr>\n",
       "      <th>0</th>\n",
       "      <td>2022-01-01</td>\n",
       "      <td>Smartphone</td>\n",
       "      <td>Electronics</td>\n",
       "      <td>600.0</td>\n",
       "      <td>10.0</td>\n",
       "      <td>6000.0</td>\n",
       "    </tr>\n",
       "    <tr>\n",
       "      <th>1</th>\n",
       "      <td>2022-01-01</td>\n",
       "      <td>Laptop</td>\n",
       "      <td>Electronics</td>\n",
       "      <td>1200.0</td>\n",
       "      <td>5.0</td>\n",
       "      <td>6000.0</td>\n",
       "    </tr>\n",
       "    <tr>\n",
       "      <th>2</th>\n",
       "      <td>2022-01-02</td>\n",
       "      <td>T-Shirt</td>\n",
       "      <td>Clothing</td>\n",
       "      <td>20.0</td>\n",
       "      <td>50.0</td>\n",
       "      <td>1000.0</td>\n",
       "    </tr>\n",
       "    <tr>\n",
       "      <th>3</th>\n",
       "      <td>2022-01-03</td>\n",
       "      <td>Headphones</td>\n",
       "      <td>Electronics</td>\n",
       "      <td>100.0</td>\n",
       "      <td>20.0</td>\n",
       "      <td>2000.0</td>\n",
       "    </tr>\n",
       "    <tr>\n",
       "      <th>4</th>\n",
       "      <td>2022-01-04</td>\n",
       "      <td>T-Shirt</td>\n",
       "      <td>Clothing</td>\n",
       "      <td>20.0</td>\n",
       "      <td>25.0</td>\n",
       "      <td>500.0</td>\n",
       "    </tr>\n",
       "    <tr>\n",
       "      <th>...</th>\n",
       "      <td>...</td>\n",
       "      <td>...</td>\n",
       "      <td>...</td>\n",
       "      <td>...</td>\n",
       "      <td>...</td>\n",
       "      <td>...</td>\n",
       "    </tr>\n",
       "    <tr>\n",
       "      <th>364</th>\n",
       "      <td>2022-12-27</td>\n",
       "      <td>Watch</td>\n",
       "      <td>Accessories</td>\n",
       "      <td>150.0</td>\n",
       "      <td>5.0</td>\n",
       "      <td>750.0</td>\n",
       "    </tr>\n",
       "    <tr>\n",
       "      <th>365</th>\n",
       "      <td>2022-12-28</td>\n",
       "      <td>Coat</td>\n",
       "      <td>Clothing</td>\n",
       "      <td>100.0</td>\n",
       "      <td>5.0</td>\n",
       "      <td>500.0</td>\n",
       "    </tr>\n",
       "    <tr>\n",
       "      <th>366</th>\n",
       "      <td>2022-12-29</td>\n",
       "      <td>Headphones</td>\n",
       "      <td>Electronics</td>\n",
       "      <td>100.0</td>\n",
       "      <td>10.0</td>\n",
       "      <td>1000.0</td>\n",
       "    </tr>\n",
       "    <tr>\n",
       "      <th>367</th>\n",
       "      <td>2022-12-30</td>\n",
       "      <td>Smartphone</td>\n",
       "      <td>Electronics</td>\n",
       "      <td>600.0</td>\n",
       "      <td>11.0</td>\n",
       "      <td>6600.0</td>\n",
       "    </tr>\n",
       "    <tr>\n",
       "      <th>368</th>\n",
       "      <td>2022-12-31</td>\n",
       "      <td>Hoodie</td>\n",
       "      <td>Clothing</td>\n",
       "      <td>40.0</td>\n",
       "      <td>30.0</td>\n",
       "      <td>1200.0</td>\n",
       "    </tr>\n",
       "  </tbody>\n",
       "</table>\n",
       "<p>369 rows × 6 columns</p>\n",
       "</div>"
      ],
      "text/plain": [
       "           date     product     category   price  quantity  revenue\n",
       "0    2022-01-01  Smartphone  Electronics   600.0      10.0   6000.0\n",
       "1    2022-01-01      Laptop  Electronics  1200.0       5.0   6000.0\n",
       "2    2022-01-02     T-Shirt     Clothing    20.0      50.0   1000.0\n",
       "3    2022-01-03  Headphones  Electronics   100.0      20.0   2000.0\n",
       "4    2022-01-04     T-Shirt     Clothing    20.0      25.0    500.0\n",
       "..          ...         ...          ...     ...       ...      ...\n",
       "364  2022-12-27       Watch  Accessories   150.0       5.0    750.0\n",
       "365  2022-12-28        Coat     Clothing   100.0       5.0    500.0\n",
       "366  2022-12-29  Headphones  Electronics   100.0      10.0   1000.0\n",
       "367  2022-12-30  Smartphone  Electronics   600.0      11.0   6600.0\n",
       "368  2022-12-31      Hoodie     Clothing    40.0      30.0   1200.0\n",
       "\n",
       "[369 rows x 6 columns]"
      ]
     },
     "execution_count": 2,
     "metadata": {},
     "output_type": "execute_result"
    }
   ],
   "source": [
    "# Load the data from CSV file\n",
    "sales_data = pd.read_csv('sales_data.csv')\n",
    "sales_data"
   ]
  },
  {
   "cell_type": "code",
   "execution_count": 3,
   "id": "f048cd01",
   "metadata": {},
   "outputs": [
    {
     "data": {
      "text/html": [
       "<div>\n",
       "<style scoped>\n",
       "    .dataframe tbody tr th:only-of-type {\n",
       "        vertical-align: middle;\n",
       "    }\n",
       "\n",
       "    .dataframe tbody tr th {\n",
       "        vertical-align: top;\n",
       "    }\n",
       "\n",
       "    .dataframe thead th {\n",
       "        text-align: right;\n",
       "    }\n",
       "</style>\n",
       "<table border=\"1\" class=\"dataframe\">\n",
       "  <thead>\n",
       "    <tr style=\"text-align: right;\">\n",
       "      <th></th>\n",
       "      <th>date</th>\n",
       "      <th>product</th>\n",
       "      <th>category</th>\n",
       "      <th>price</th>\n",
       "      <th>quantity</th>\n",
       "      <th>revenue</th>\n",
       "    </tr>\n",
       "  </thead>\n",
       "  <tbody>\n",
       "    <tr>\n",
       "      <th>0</th>\n",
       "      <td>2022-01-01</td>\n",
       "      <td>Smartphone</td>\n",
       "      <td>Electronics</td>\n",
       "      <td>600.0</td>\n",
       "      <td>10.0</td>\n",
       "      <td>6000.0</td>\n",
       "    </tr>\n",
       "    <tr>\n",
       "      <th>1</th>\n",
       "      <td>2022-01-01</td>\n",
       "      <td>Laptop</td>\n",
       "      <td>Electronics</td>\n",
       "      <td>1200.0</td>\n",
       "      <td>5.0</td>\n",
       "      <td>6000.0</td>\n",
       "    </tr>\n",
       "    <tr>\n",
       "      <th>2</th>\n",
       "      <td>2022-01-02</td>\n",
       "      <td>T-Shirt</td>\n",
       "      <td>Clothing</td>\n",
       "      <td>20.0</td>\n",
       "      <td>50.0</td>\n",
       "      <td>1000.0</td>\n",
       "    </tr>\n",
       "    <tr>\n",
       "      <th>3</th>\n",
       "      <td>2022-01-03</td>\n",
       "      <td>Headphones</td>\n",
       "      <td>Electronics</td>\n",
       "      <td>100.0</td>\n",
       "      <td>20.0</td>\n",
       "      <td>2000.0</td>\n",
       "    </tr>\n",
       "    <tr>\n",
       "      <th>4</th>\n",
       "      <td>2022-01-04</td>\n",
       "      <td>T-Shirt</td>\n",
       "      <td>Clothing</td>\n",
       "      <td>20.0</td>\n",
       "      <td>25.0</td>\n",
       "      <td>500.0</td>\n",
       "    </tr>\n",
       "    <tr>\n",
       "      <th>...</th>\n",
       "      <td>...</td>\n",
       "      <td>...</td>\n",
       "      <td>...</td>\n",
       "      <td>...</td>\n",
       "      <td>...</td>\n",
       "      <td>...</td>\n",
       "    </tr>\n",
       "    <tr>\n",
       "      <th>364</th>\n",
       "      <td>2022-12-27</td>\n",
       "      <td>Watch</td>\n",
       "      <td>Accessories</td>\n",
       "      <td>150.0</td>\n",
       "      <td>5.0</td>\n",
       "      <td>750.0</td>\n",
       "    </tr>\n",
       "    <tr>\n",
       "      <th>365</th>\n",
       "      <td>2022-12-28</td>\n",
       "      <td>Coat</td>\n",
       "      <td>Clothing</td>\n",
       "      <td>100.0</td>\n",
       "      <td>5.0</td>\n",
       "      <td>500.0</td>\n",
       "    </tr>\n",
       "    <tr>\n",
       "      <th>366</th>\n",
       "      <td>2022-12-29</td>\n",
       "      <td>Headphones</td>\n",
       "      <td>Electronics</td>\n",
       "      <td>100.0</td>\n",
       "      <td>10.0</td>\n",
       "      <td>1000.0</td>\n",
       "    </tr>\n",
       "    <tr>\n",
       "      <th>367</th>\n",
       "      <td>2022-12-30</td>\n",
       "      <td>Smartphone</td>\n",
       "      <td>Electronics</td>\n",
       "      <td>600.0</td>\n",
       "      <td>11.0</td>\n",
       "      <td>6600.0</td>\n",
       "    </tr>\n",
       "    <tr>\n",
       "      <th>368</th>\n",
       "      <td>2022-12-31</td>\n",
       "      <td>Hoodie</td>\n",
       "      <td>Clothing</td>\n",
       "      <td>40.0</td>\n",
       "      <td>30.0</td>\n",
       "      <td>1200.0</td>\n",
       "    </tr>\n",
       "  </tbody>\n",
       "</table>\n",
       "<p>369 rows × 6 columns</p>\n",
       "</div>"
      ],
      "text/plain": [
       "          date     product     category   price  quantity  revenue\n",
       "0   2022-01-01  Smartphone  Electronics   600.0      10.0   6000.0\n",
       "1   2022-01-01      Laptop  Electronics  1200.0       5.0   6000.0\n",
       "2   2022-01-02     T-Shirt     Clothing    20.0      50.0   1000.0\n",
       "3   2022-01-03  Headphones  Electronics   100.0      20.0   2000.0\n",
       "4   2022-01-04     T-Shirt     Clothing    20.0      25.0    500.0\n",
       "..         ...         ...          ...     ...       ...      ...\n",
       "364 2022-12-27       Watch  Accessories   150.0       5.0    750.0\n",
       "365 2022-12-28        Coat     Clothing   100.0       5.0    500.0\n",
       "366 2022-12-29  Headphones  Electronics   100.0      10.0   1000.0\n",
       "367 2022-12-30  Smartphone  Electronics   600.0      11.0   6600.0\n",
       "368 2022-12-31      Hoodie     Clothing    40.0      30.0   1200.0\n",
       "\n",
       "[369 rows x 6 columns]"
      ]
     },
     "execution_count": 3,
     "metadata": {},
     "output_type": "execute_result"
    }
   ],
   "source": [
    "# Data cleaning\n",
    "sales_data['date'] = pd.to_datetime(sales_data['date']) # Convert date column to datetime format\n",
    "sales_data"
   ]
  },
  {
   "cell_type": "code",
   "execution_count": 4,
   "id": "23948885",
   "metadata": {},
   "outputs": [
    {
     "name": "stdout",
     "output_type": "stream",
     "text": [
      "Total revenue generated by the company over the course of the year: $758,330.00\n"
     ]
    }
   ],
   "source": [
    "# Question 1: What was the total revenue generated by the company over the course of the year?\n",
    "total_revenue = sales_data['revenue'].sum()\n",
    "print(\"Total revenue generated by the company over the course of the year: ${:,.2f}\".format(total_revenue))"
   ]
  },
  {
   "cell_type": "code",
   "execution_count": 5,
   "id": "488cca87",
   "metadata": {},
   "outputs": [
    {
     "name": "stdout",
     "output_type": "stream",
     "text": [
      "The product with the highest revenue is 'Smartphone' with total revenue of $434,400.00\n"
     ]
    }
   ],
   "source": [
    "# Question 2: Which product had the highest revenue? How much revenue did it generate?\n",
    "highest_revenue_product = sales_data.groupby('product')['revenue'].sum().sort_values(ascending=False).index[0]\n",
    "highest_revenue = sales_data.groupby('product')['revenue'].sum().sort_values(ascending=False)[0]\n",
    "print(\"The product with the highest revenue is '{}' with total revenue of ${:,.2f}\".format(highest_revenue_product, highest_revenue))"
   ]
  },
  {
   "cell_type": "code",
   "execution_count": 6,
   "id": "ed640c61",
   "metadata": {},
   "outputs": [
    {
     "name": "stdout",
     "output_type": "stream",
     "text": [
      "The average price of a product sold by the company is $211.23\n"
     ]
    }
   ],
   "source": [
    "# Question 3: What was the average price of a product sold by the company?\n",
    "average_price = sales_data['price'].mean()\n",
    "print(\"The average price of a product sold by the company is ${:,.2f}\".format(average_price))"
   ]
  },
  {
   "cell_type": "code",
   "execution_count": 7,
   "id": "67ea7c24",
   "metadata": {},
   "outputs": [
    {
     "name": "stdout",
     "output_type": "stream",
     "text": [
      "The total quantity of products sold by the company is 5,360.0\n"
     ]
    }
   ],
   "source": [
    "# Question 4: What was the total quantity of products sold by the company?\n",
    "total_quantity = sales_data['quantity'].sum()\n",
    "print(\"The total quantity of products sold by the company is {:,}\".format(total_quantity))"
   ]
  },
  {
   "cell_type": "code",
   "execution_count": 8,
   "id": "c78136c8",
   "metadata": {},
   "outputs": [
    {
     "name": "stdout",
     "output_type": "stream",
     "text": [
      "The category with the highest revenue is 'Electronics' with total revenue of $516,080.00\n"
     ]
    }
   ],
   "source": [
    "# Question 5: Which category had the highest revenue? How much revenue did it generate?\n",
    "highest_revenue_category = sales_data.groupby('category')['revenue'].sum().sort_values(ascending=False).index[0]\n",
    "highest_category_revenue = sales_data.groupby('category')['revenue'].sum().sort_values(ascending=False)[0]\n",
    "print(\"The category with the highest revenue is '{}' with total revenue of ${:,.2f}\".format(highest_revenue_category, highest_category_revenue))"
   ]
  },
  {
   "cell_type": "code",
   "execution_count": 9,
   "id": "75b1e5c5",
   "metadata": {},
   "outputs": [
    {
     "name": "stdout",
     "output_type": "stream",
     "text": [
      "The average revenue per sale is $2,060.68\n"
     ]
    }
   ],
   "source": [
    "# Question 6: What was the average revenue per sale?\n",
    "average_revenue_per_sale = sales_data['revenue'].mean()\n",
    "print(\"The average revenue per sale is ${:,.2f}\".format(average_revenue_per_sale))"
   ]
  },
  {
   "cell_type": "code",
   "execution_count": 10,
   "id": "a0f9a082",
   "metadata": {},
   "outputs": [
    {
     "name": "stdout",
     "output_type": "stream",
     "text": [
      "Total revenue generated in each quarter of the year: \n",
      "quarter\n",
      "1    182100.0\n",
      "2    183970.0\n",
      "3    197680.0\n",
      "4    194580.0\n",
      "Name: revenue, dtype: float64\n"
     ]
    }
   ],
   "source": [
    "# Question 7: What was the total revenue generated in each quarter of the year? (i.e. Q1, Q2, Q3, Q4)\n",
    "sales_data['quarter'] = sales_data['date'].dt.quarter # Add a new column 'quarter'\n",
    "revenue_by_quarter = sales_data.groupby('quarter')['revenue'].sum()\n",
    "print(\"Total revenue generated in each quarter of the year: \")\n",
    "print(revenue_by_quarter)"
   ]
  },
  {
   "cell_type": "code",
   "execution_count": 11,
   "id": "9dc6e4ec",
   "metadata": {},
   "outputs": [
    {
     "data": {
      "image/png": "[encoded data removed]",
      "text/plain": [
       "<Figure size 640x480 with 1 Axes>"
      ]
     },
     "metadata": {},
     "output_type": "display_data"
    }
   ],
   "source": [
    "# Create a bar chart to visualize revenue by quarter\n",
    "sns.barplot(x=revenue_by_quarter.index, y=revenue_by_quarter.values, palette='Blues')\n",
    "plt.title('Total Revenue by Quarter')\n",
    "plt.xlabel('Quarter')\n",
    "plt.ylabel('Revenue ($)')\n",
    "plt.show()"
   ]
  },
  {
   "cell_type": "code",
   "execution_count": 12,
   "id": "d8f57a49",
   "metadata": {},
   "outputs": [
    {
     "data": {
      "image/png": "[encoded data removed]",
      "text/plain": [
       "<Figure size 640x480 with 1 Axes>"
      ]
     },
     "metadata": {},
     "output_type": "display_data"
    }
   ],
   "source": [
    "# Create a scatter plot to visualize the relationship between price and quantity\n",
    "sns.scatterplot(x='price', y='quantity', data=sales_data)\n",
    "plt.title('Price vs. Quantity')\n",
    "plt.xlabel('Price ($)')\n",
    "plt.ylabel('Quantity')\n",
    "plt.show()"
   ]
  },
  {
   "cell_type": "code",
   "execution_count": 13,
   "id": "d99b92e4",
   "metadata": {},
   "outputs": [
    {
     "data": {
      "image/png": "[encoded data removed]",
      "text/plain": [
       "<Figure size 1000x600 with 1 Axes>"
      ]
     },
     "metadata": {},
     "output_type": "display_data"
    }
   ],
   "source": [
    "# Create a box plot to visualize the distribution of revenue by category\n",
    "plt.figure(figsize=(10, 6))\n",
    "sns.boxplot(x='category', y='revenue', data=sales_data)\n",
    "plt.title('Revenue by Category')\n",
    "plt.xlabel('Category')\n",
    "plt.ylabel('Revenue ($)')\n",
    "plt.show()"
   ]
  },
  {
   "cell_type": "markdown",
   "id": "65f9208d",
   "metadata": {},
   "source": [
    "# Sales Data Analysis Report\n",
    "\n",
    "Introduction\n",
    "\n",
    "In this report, we analyze a sales data set to gain insights into the revenue generated by a company over the course of a year. We answer several questions related to the data set and provide supporting calculations and visualizations.\n",
    "\n",
    "Data Set\n",
    "\n",
    "The data set contains information about the sales of a company over the course of a year. It includes the date of each sale, the product sold, the category of the product, the price of the product, the quantity sold, and the revenue generated by each sale.\n",
    "\n",
    "Analysis\n",
    "\n",
    "Question 1: What was the total revenue generated by the company over the course of the year?\n",
    "The total revenue generated by the company over the course of the year was $758,330.00.\n",
    "\n",
    "Question 2: Which product had the highest revenue? How much revenue did it generate?\n",
    "The product with the highest revenue is 'Smartphone' with total revenue of $434,400.00.\n",
    "\n",
    "Question 3: What was the average price of a product sold by the company?\n",
    "The average price of a product sold by the company is $211.23.\n",
    "\n",
    "Question 4: What was the total quantity of products sold by the company?\n",
    "The total quantity of products sold by the company is 5,360.0.\n",
    "\n",
    "Question 5: Which category had the highest revenue? How much revenue did it generate?\n",
    "The category with the highest revenue is 'Electronics' with total revenue of $516,080.00.\n",
    "\n",
    "Question 6: What was the average revenue per sale?\n",
    "The average revenue per sale is $2,060.68.\n",
    "\n",
    "Question 7: What was the total revenue generated in each quarter of the year? (i.e. Q1, Q2, Q3, Q4)\n",
    "The total revenue generated in each quarter of the year is as follows:\n",
    "\n",
    "Quarter\tRevenue ($)\n",
    "  Q1\t182100.0\n",
    "  Q2\t183970.0\n",
    "  Q3\t197680.0\n",
    "  Q4\t194580.0\n",
    "Visualizations\n",
    "We created three visualizations to provide further insights into the sales data:\n",
    "\n",
    "1. Total Revenue by Quarter\n",
    "This bar chart shows the total revenue generated in each quarter of the year. We can see that the third quarter had the highest revenue, followed by the fourth quarter, the second quarter, and the first quarter.\n",
    "\n",
    "2. Price vs. Quantity\n",
    "This scatter plot shows the relationship between price and quantity. We can see that there is a egative correlation between price and quantity, which means that as the price of a product increases, the quantity sold decrease.\n",
    "\n",
    "3. Revenue by Category\n",
    "This box plot shows the distribution of revenue by category. We can see that 'Electronics' had the highest median revenue.\n",
    "\n",
    "Conclusion\n",
    "\n",
    "The sales data set provides valuable insights into the revenue generated by the company over the course of a year. The analysis shows the total revenue, the highest revenue product, the average price, the total quantity sold, the highest revenue category, the average revenue per sale, and revenue generated in each quarter. The visualizations further enhance our understanding of the data, showing the total revenue by quarter, the relationship between price and quantity, and the distribution of revenue by category. These insights can help the company make informed decisions about their products, pricing, and marketing strategies to maximize revenue in the future.\n"
   ]
  }
 ],
 "metadata": {
  "kernelspec": {
   "display_name": "Python 3 (ipykernel)",
   "language": "python",
   "name": "python3"
  },
  "language_info": {
   "codemirror_mode": {
    "name": "ipython",
    "version": 3
   },
   "file_extension": ".py",
   "mimetype": "text/x-python",
   "name": "python",
   "nbconvert_exporter": "python",
   "pygments_lexer": "ipython3",
   "version": "3.9.13"
  }
 },
 "nbformat": 4,
 "nbformat_minor": 5
}
